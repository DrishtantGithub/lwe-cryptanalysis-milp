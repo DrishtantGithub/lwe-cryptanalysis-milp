{
  "nbformat": 4,
  "nbformat_minor": 0,
  "metadata": {
    "colab": {
      "provenance": []
    },
    "kernelspec": {
      "name": "python3",
      "display_name": "Python 3"
    },
    "language_info": {
      "name": "python"
    }
  },
  "cells": [
    {
      "cell_type": "code",
      "execution_count": 2,
      "metadata": {
        "colab": {
          "base_uri": "https://localhost:8080/"
        },
        "id": "acstJTTI8lzG",
        "outputId": "c780428c-fa95-424b-ab1c-d1610c81cdcc"
      },
      "outputs": [
        {
          "output_type": "stream",
          "name": "stdout",
          "text": [
            "Collecting pulp\n",
            "  Downloading pulp-3.1.1-py3-none-any.whl.metadata (1.3 kB)\n",
            "Downloading pulp-3.1.1-py3-none-any.whl (16.4 MB)\n",
            "\u001b[2K   \u001b[90m━━━━━━━━━━━━━━━━━━━━━━━━━━━━━━━━━━━━━━━━\u001b[0m \u001b[32m16.4/16.4 MB\u001b[0m \u001b[31m80.5 MB/s\u001b[0m eta \u001b[36m0:00:00\u001b[0m\n",
            "\u001b[?25hInstalling collected packages: pulp\n",
            "Successfully installed pulp-3.1.1\n"
          ]
        }
      ],
      "source": [
        "!pip install pulp\n"
      ]
    },
    {
      "cell_type": "code",
      "source": [
        "import numpy as np\n",
        "from pulp import LpProblem, LpVariable, LpMinimize, lpSum, LpBinary, LpInteger, LpStatus\n",
        "\n",
        "def recover_lwe_secret(A, b, q, noise_bound):\n",
        "    \"\"\"\n",
        "    Recover the binary secret vector 's' from LWE samples using a MILP approach.\n",
        "    Returns:\n",
        "        s_est (np.ndarray): The estimated secret vector (binary)\n",
        "        status (str): Solver status\n",
        "    \"\"\"\n",
        "    m, n = A.shape\n",
        "\n",
        "    # Create a MILP model with no objective (we care about feasibility)\n",
        "    model = LpProblem(\"LWE_Attack_MILP\", LpMinimize)\n",
        "    model += 0  # Dummy objective since we are solving a feasibility problem\n",
        "\n",
        "    # Variables for secret (binary) and integer slack variables for modulus folding\n",
        "    secret_bits = [LpVariable(f\"s_{j}\", cat=LpBinary) for j in range(n)]\n",
        "    slack_vars = [LpVariable(f\"z_{i}\", cat=LpInteger) for i in range(m)]\n",
        "\n",
        "    # Add one constraint per LWE sample: |<A_i, s> - b_i - q * z_i| <= B\n",
        "    for i in range(m):\n",
        "        affine_expr = lpSum(A[i, j] * secret_bits[j] for j in range(n)) - b[i] - q * slack_vars[i]\n",
        "        model += (affine_expr <= noise_bound), f\"Noise_Upper_{i}\"\n",
        "        model += (affine_expr >= -noise_bound), f\"Noise_Lower_{i}\"\n",
        "\n",
        "    # Solving the MILP\n",
        "    solver_status = model.solve()\n",
        "\n",
        "    # Extracting solution if feasible\n",
        "    recovered_s = np.array([int(var.value()) for var in secret_bits])\n",
        "    return recovered_s, LpStatus[solver_status]\n",
        "\n",
        "def generate_lwe_instance(n, m, q, B):\n",
        "    \"\"\"\n",
        "    To Generate a random LWE instance with binary secret and bounded noise.\n",
        "\n",
        "    Returns:\n",
        "        A (np.ndarray): LWE matrix\n",
        "        b (np.ndarray): LWE response vector\n",
        "        s_true (np.ndarray): Ground-truth secret\n",
        "    \"\"\"\n",
        "    s = np.random.randint(0, 2, size=n)\n",
        "    A = np.random.randint(0, q, size=(m, n))\n",
        "    e = np.random.randint(-B, B + 1, size=m)\n",
        "    b = (A @ s + e) % q\n",
        "    return A, b, s\n",
        "\n",
        "if __name__ == \"__main__\":\n",
        "    # LWE parameters\n",
        "    n_dim = 5        # Length of the secret\n",
        "    q_mod = 101      # Modulus\n",
        "    m_samples = 30   # Number of equations\n",
        "    B_err = 1        # Error bound\n",
        "\n",
        "    # Create LWE system\n",
        "    A_matrix, b_vector, s_ground_truth = generate_lwe_instance(n_dim, m_samples, q_mod, B_err)\n",
        "\n",
        "    # Run MILP attack\n",
        "    s_guess, status = recover_lwe_secret(A_matrix, b_vector, q_mod, B_err)\n",
        "\n",
        "    # Display results\n",
        "    print(\"MILP Solver Status :\", status)\n",
        "    print(\"Ground Truth Secret:\", s_ground_truth)\n",
        "    print(\"Recovered Secret   :\", s_guess)\n",
        "    print(\"Successful Recovery:\", np.array_equal(s_ground_truth, s_guess))\n"
      ],
      "metadata": {
        "colab": {
          "base_uri": "https://localhost:8080/"
        },
        "id": "tjeqiptW80oa",
        "outputId": "d95ea31d-6352-4dec-af54-c95fb9f1d900"
      },
      "execution_count": 3,
      "outputs": [
        {
          "output_type": "stream",
          "name": "stdout",
          "text": [
            "MILP Solver Status : Optimal\n",
            "Ground Truth Secret: [1 0 0 0 1]\n",
            "Recovered Secret   : [1 0 0 0 1]\n",
            "Successful Recovery: True\n"
          ]
        }
      ]
    },
    {
      "cell_type": "markdown",
      "source": [
        "Making the Plots and Storing them"
      ],
      "metadata": {
        "id": "nYSoX6SMoJTk"
      }
    },
    {
      "cell_type": "code",
      "source": [
        "import matplotlib.pyplot as plt\n",
        "\n",
        "def evaluate_success_rate(n, m, B, q=101, trials=15):\n",
        "    \"\"\"\n",
        "    Runs MILP-based LWE attack multiple times and computes success rate.\n",
        "    \"\"\"\n",
        "    correct = 0\n",
        "    for _ in range(trials):\n",
        "        s_true = np.random.randint(0, 2, size=n)\n",
        "        A = np.random.randint(0, q, size=(m, n))\n",
        "        noise = np.random.normal(0, B / 2, size=m).astype(int)\n",
        "        b = (A @ s_true + noise) % q\n",
        "\n",
        "        prob = LpProblem(\"MILP_LWE_Attack\", LpMinimize)\n",
        "        prob += 0  # No objective — feasibility problem\n",
        "\n",
        "        s_vars = [LpVariable(f\"s_{j}\", cat=LpBinary) for j in range(n)]\n",
        "        k_vars = [LpVariable(f\"k_{i}\", cat=LpInteger) for i in range(m)]\n",
        "\n",
        "        for i in range(m):\n",
        "            constraint = lpSum(A[i][j] * s_vars[j] for j in range(n)) - b[i] - q * k_vars[i]\n",
        "            prob += (constraint <= B)\n",
        "            prob += (constraint >= -B)\n",
        "\n",
        "        status = prob.solve(PULP_CBC_CMD(msg=0, timeLimit=5))\n",
        "        if LpStatus[status] == 'Optimal':\n",
        "            s_guess = np.array([int(value(v)) for v in s_vars])\n",
        "            if np.array_equal(s_guess, s_true):\n",
        "                correct += 1\n",
        "    return correct / trials\n",
        "\n",
        "# ----- Sweep over dimension n -----\n",
        "n_vals = list(range(3, 21))\n",
        "success_n = [evaluate_success_rate(n=n, m=2*n, B=2) for n in n_vals]\n",
        "plt.plot(n_vals, success_n, marker='o')\n",
        "plt.title(\"Success Rate vs Dimension n\")\n",
        "plt.xlabel(\"Secret Dimension n\")\n",
        "plt.ylabel(\"Success Rate\")\n",
        "plt.grid(True)\n",
        "plt.savefig(\"success_vs_n.png\")\n",
        "plt.show()\n",
        "\n",
        "# ----- Sweep over number of samples m -----\n",
        "m_vals = list(range(10, 65, 5))\n",
        "success_m = [evaluate_success_rate(n=8, m=m, B=2) for m in m_vals]\n",
        "plt.plot(m_vals, success_m, marker='s')\n",
        "plt.title(\"Success Rate vs Samples m (n=8)\")\n",
        "plt.xlabel(\"Number of Samples m\")\n",
        "plt.ylabel(\"Success Rate\")\n",
        "plt.grid(True)\n",
        "plt.savefig(\"success_vs_m.png\")\n",
        "plt.show()\n",
        "\n",
        "# ----- Sweep over noise bound B -----\n",
        "B_vals = list(range(0, 8))\n",
        "success_B = [evaluate_success_rate(n=6, m=30, B=B) for B in B_vals]\n",
        "plt.plot(B_vals, success_B, marker='^')\n",
        "plt.title(\"Success Rate vs Noise Bound B (n=6, m=30)\")\n",
        "plt.xlabel(\"Noise Bound B\")\n",
        "plt.ylabel(\"Success Rate\")\n",
        "plt.grid(True)\n",
        "plt.savefig(\"success_vs_B.png\")\n",
        "plt.show()\n",
        "\n",
        "print(\"✅ All experiment plots saved (success_vs_n.png, success_vs_m.png, success_vs_B.png)\")\n"
      ],
      "metadata": {
        "colab": {
          "base_uri": "https://localhost:8080/"
        },
        "id": "ysHDQXK986Lb",
        "outputId": "4200d503-02f8-4d32-9223-29a075fb1b69"
      },
      "execution_count": null,
      "outputs": [
        {
          "output_type": "stream",
          "name": "stdout",
          "text": [
            "✅ Realistic plots generated and saved.\n"
          ]
        },
        {
          "output_type": "display_data",
          "data": {
            "text/plain": [
              "<Figure size 640x480 with 0 Axes>"
            ]
          },
          "metadata": {}
        }
      ]
    },
    {
      "cell_type": "code",
      "source": [],
      "metadata": {
        "id": "d1MpfqUoa_-B"
      },
      "execution_count": null,
      "outputs": []
    }
  ]
}